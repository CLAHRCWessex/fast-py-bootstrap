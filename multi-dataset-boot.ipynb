{
 "cells": [
  {
   "cell_type": "code",
   "execution_count": 206,
   "metadata": {},
   "outputs": [],
   "source": [
    "import numpy as np\n",
    "from numba import jit, prange\n",
    "from dask import delayed, compute\n",
    "import matplotlib.pyplot as plt\n",
    "%matplotlib inline"
   ]
  },
  {
   "cell_type": "markdown",
   "metadata": {},
   "source": [
    "## Fast boostrap resampling when there are multiple datasets (of same size) to boostrap"
   ]
  },
  {
   "cell_type": "code",
   "execution_count": 3,
   "metadata": {},
   "outputs": [],
   "source": [
    "def multi_bootstrap(data, boots):\n",
    "    \"\"\"\n",
    "    Keyword arguments:\n",
    "    data -- numpy multi-dimentional array \n",
    "    boot -- number of bootstraps  \n",
    "    \n",
    "    \"\"\"\n",
    "    designs = data.shape[0]\n",
    "    samples = data.shape[1]\n",
    "    \n",
    "    to_return = np.empty((designs, boots))\n",
    "    \n",
    "    for design in range(designs):\n",
    "        \n",
    "        to_return[design:design+1] = bootstrap(data[design], boots)\n",
    "        \n",
    "    return to_return"
   ]
  },
  {
   "cell_type": "code",
   "execution_count": 169,
   "metadata": {},
   "outputs": [],
   "source": [
    "@jit(nopython=False)\n",
    "def multi_bootstrap_jit(data, boots):\n",
    "    \"\"\"\n",
    "    Keyword arguments:\n",
    "    data -- numpy multi-dimentional array \n",
    "    boot -- number of bootstraps  \n",
    "    \n",
    "    \"\"\"\n",
    "    designs = data.shape[0]\n",
    "    samples = data.shape[1]\n",
    "    \n",
    "    to_return = np.zeros((designs, boots))\n",
    "    \n",
    "    for design in range(designs):\n",
    "\n",
    "        to_return[design:design+1] = bootstrap(data[design], boots)\n",
    "        \n",
    "    return to_return"
   ]
  },
  {
   "cell_type": "code",
   "execution_count": 5,
   "metadata": {},
   "outputs": [],
   "source": [
    "@jit(nopython=False)\n",
    "def multi_bootstrap_par(data, boots):\n",
    "    \"\"\"\n",
    "    Keyword arguments:\n",
    "    data -- numpy multi-dimentional array \n",
    "    boot -- number of bootstraps  \n",
    "    \n",
    "    \"\"\"\n",
    "    designs = data.shape[0]\n",
    "    samples = data.shape[1]\n",
    "    \n",
    "    to_return = np.empty((designs, boots))\n",
    "    \n",
    "    for design in range(designs):\n",
    "        \n",
    "        to_return[design:design+1] = bootstrap_par(data[design], boots)\n",
    "        \n",
    "    return to_return"
   ]
  },
  {
   "cell_type": "code",
   "execution_count": 166,
   "metadata": {},
   "outputs": [],
   "source": [
    "@jit(nopython=True)\n",
    "def bootstrap(data, boots):\n",
    "    \"\"\"\n",
    "    Create bootstrap datasets that represent the distribution of the mean.\n",
    "    Returns a numpy array containing the bootstrap datasets \n",
    "    \n",
    "    Keyword arguments:\n",
    "    data -- numpy array of systems to boostrap\n",
    "    boots -- number of bootstrap (default = 1000)\n",
    "    \"\"\"\n",
    "    \n",
    "    bs_data = np.empty(boots)\n",
    "    \n",
    "    for b in range(boots):\n",
    "        \n",
    "        total=0\n",
    "        \n",
    "        for s in range(data.shape[0]):\n",
    "        \n",
    "            total += data[np.random.randint(0, data.shape[0])]\n",
    "\n",
    "        bs_data[b] = total / data.shape[0]\n",
    "\n",
    "    return bs_data"
   ]
  },
  {
   "cell_type": "code",
   "execution_count": 164,
   "metadata": {},
   "outputs": [],
   "source": [
    "@jit(nopython=True, parallel=True)\n",
    "def bootstrap_par(data, boots):\n",
    "    \"\"\"\n",
    "    Create bootstrap datasets that represent the distribution of the mean.\n",
    "    Returns a numpy array containing the bootstrap datasets \n",
    "    \n",
    "    Keyword arguments:\n",
    "    data -- numpy array of systems to boostrap\n",
    "    boots -- number of bootstrap (default = 1000)\n",
    "    \"\"\"\n",
    "    \n",
    "    bs_data = np.empty(boots)\n",
    "    \n",
    "    for b in prange(boots):\n",
    "        \n",
    "        total=0\n",
    "        \n",
    "        for s in range(data.shape[0]):\n",
    "        \n",
    "            total += data[np.random.randint(0, data.shape[0])]\n",
    "\n",
    "        bs_data[b] = total / data.shape[0]\n",
    "\n",
    "    return bs_data"
   ]
  },
  {
   "cell_type": "markdown",
   "metadata": {},
   "source": [
    "## Small Problem 10 initial datasets"
   ]
  },
  {
   "cell_type": "code",
   "execution_count": 69,
   "metadata": {},
   "outputs": [
    {
     "data": {
      "text/plain": [
       "(10, 10)"
      ]
     },
     "execution_count": 69,
     "metadata": {},
     "output_type": "execute_result"
    }
   ],
   "source": [
    "sample = np.arange(100).reshape(10, 10)\n",
    "sample.shape"
   ]
  },
  {
   "cell_type": "code",
   "execution_count": 191,
   "metadata": {},
   "outputs": [
    {
     "name": "stdout",
     "output_type": "stream",
     "text": [
      "CPU times: user 14.4 ms, sys: 0 ns, total: 14.4 ms\n",
      "Wall time: 14 ms\n"
     ]
    }
   ],
   "source": [
    "%timeit x = multi_bootstrap(sample, 1000)"
   ]
  },
  {
   "cell_type": "code",
   "execution_count": 249,
   "metadata": {},
   "outputs": [],
   "source": [
    "%timeit x = multi_bootstrap_jit(sample, 1000)"
   ]
  },
  {
   "cell_type": "code",
   "execution_count": 266,
   "metadata": {},
   "outputs": [
    {
     "name": "stdout",
     "output_type": "stream",
     "text": [
      "854 µs ± 58.1 µs per loop (mean ± std. dev. of 7 runs, 1000 loops each)\n"
     ]
    }
   ],
   "source": [
    "%time x = multi_bootstrap_par(sample, 1000)"
   ]
  },
  {
   "cell_type": "markdown",
   "metadata": {},
   "source": [
    "multi-core processing improves performance even with a problem as small as 10 initial datasets"
   ]
  },
  {
   "cell_type": "markdown",
   "metadata": {},
   "source": [
    "## Larger Problem.  1000 initial datasets"
   ]
  },
  {
   "cell_type": "code",
   "execution_count": 27,
   "metadata": {},
   "outputs": [
    {
     "data": {
      "text/plain": [
       "(1000, 10)"
      ]
     },
     "execution_count": 27,
     "metadata": {},
     "output_type": "execute_result"
    }
   ],
   "source": [
    "sample = np.arange(10000).reshape(1000, 10)\n",
    "sample.shape"
   ]
  },
  {
   "cell_type": "markdown",
   "metadata": {},
   "source": [
    "NumPy Implementation"
   ]
  },
  {
   "cell_type": "code",
   "execution_count": 10,
   "metadata": {},
   "outputs": [
    {
     "name": "stdout",
     "output_type": "stream",
     "text": [
      "96.5 ms ± 1.79 ms per loop (mean ± std. dev. of 7 runs, 1 loop each)\n"
     ]
    }
   ],
   "source": [
    "%%timeit\n",
    "x = multi_bootstrap(sample, 1000)"
   ]
  },
  {
   "cell_type": "markdown",
   "metadata": {},
   "source": [
    "NumPy and Numba JIT implementation"
   ]
  },
  {
   "cell_type": "code",
   "execution_count": 20,
   "metadata": {},
   "outputs": [
    {
     "name": "stdout",
     "output_type": "stream",
     "text": [
      "93 ms ± 774 µs per loop (mean ± std. dev. of 7 runs, 10 loops each)\n"
     ]
    }
   ],
   "source": [
    "%%timeit\n",
    "x = multi_bootstrap_jit(sample, 1000)"
   ]
  },
  {
   "cell_type": "markdown",
   "metadata": {},
   "source": [
    "NumPy, JIT and Parallel (multi-core) Implementation"
   ]
  },
  {
   "cell_type": "code",
   "execution_count": 14,
   "metadata": {},
   "outputs": [
    {
     "name": "stdout",
     "output_type": "stream",
     "text": [
      "77.5 ms ± 114 µs per loop (mean ± std. dev. of 7 runs, 10 loops each)\n"
     ]
    }
   ],
   "source": [
    "%%timeit\n",
    "x = multi_bootstrap_par(sample, 1000)"
   ]
  }
 ],
 "metadata": {
  "kernelspec": {
   "display_name": "Python 3",
   "language": "python",
   "name": "python3"
  },
  "language_info": {
   "codemirror_mode": {
    "name": "ipython",
    "version": 3
   },
   "file_extension": ".py",
   "mimetype": "text/x-python",
   "name": "python",
   "nbconvert_exporter": "python",
   "pygments_lexer": "ipython3",
   "version": "3.7.0"
  }
 },
 "nbformat": 4,
 "nbformat_minor": 2
}
