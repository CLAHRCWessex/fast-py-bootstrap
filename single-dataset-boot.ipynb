{
 "cells": [
  {
   "cell_type": "code",
   "execution_count": 3,
   "metadata": {},
   "outputs": [],
   "source": [
    "import numpy as np\n",
    "from numba import jit, prange\n",
    "from dask import delayed, compute"
   ]
  },
  {
   "cell_type": "code",
   "execution_count": 1,
   "metadata": {},
   "outputs": [],
   "source": [
    "def bootstrap(data, boots):\n",
    "    \"\"\"\n",
    "    Create bootstrap datasets that represent the distribution of the mean.\n",
    "    Returns a numpy array containing the bootstrap datasets \n",
    "    \n",
    "    Keyword arguments:\n",
    "    data -- numpy array of systems to boostrap\n",
    "    boots -- number of bootstrap (default = 1000)\n",
    "    \"\"\"\n",
    "    \n",
    "    to_return = np.empty([boots])\n",
    "              \n",
    "    for b in range(boots):\n",
    "        \n",
    "        total=0\n",
    "        \n",
    "        for s in range(data.shape[0]):\n",
    "        \n",
    "            total += data[round(np.random.uniform(0, data.shape[0]-1))]\n",
    "\n",
    "        to_return[b] = total / data.shape[0]\n",
    "\n",
    "    return to_return"
   ]
  },
  {
   "cell_type": "code",
   "execution_count": 4,
   "metadata": {},
   "outputs": [],
   "source": [
    "@jit(nopython=True)\n",
    "def bootstrap_jit(data, boots):\n",
    "    \"\"\"\n",
    "    Create bootstrap datasets that represent the distribution of the mean.\n",
    "    Returns a numpy array containing the bootstrap datasets \n",
    "    \n",
    "    Keyword arguments:\n",
    "    data -- numpy array of systems to boostrap\n",
    "    boots -- number of bootstrap (default = 1000)\n",
    "    \"\"\"\n",
    "        \n",
    "    to_return = np.empty(boots)\n",
    "    \n",
    "                \n",
    "    for b in range(boots):\n",
    "        \n",
    "        total=0.0\n",
    "        \n",
    "        for s in range(data.shape[0]):\n",
    "\n",
    "            total += data[round(np.random.uniform(0, data.shape[0]-1))]\n",
    "\n",
    "        to_return[b] = total / data.shape[0]\n",
    "\n",
    "    return to_return"
   ]
  },
  {
   "cell_type": "code",
   "execution_count": 5,
   "metadata": {},
   "outputs": [],
   "source": [
    "@jit(nopython=True, parallel=True)\n",
    "def bootstrap_jit_parallel(data, boots):\n",
    "    \"\"\"\n",
    "    Create bootstrap datasets that represent the distribution of the mean.\n",
    "    Returns a numpy array containing the bootstrap datasets \n",
    "    \n",
    "    Keyword arguments:\n",
    "    data -- numpy array of systems to boostrap\n",
    "    boots -- number of bootstrap (default = 1000)\n",
    "    \"\"\"\n",
    "        \n",
    "    to_return = np.empty(boots)\n",
    "                \n",
    "    for b in prange(boots):\n",
    "        \n",
    "        total=0.0\n",
    "        \n",
    "        for s in range(data.shape[0]):\n",
    "        \n",
    "            total += data[round(np.random.uniform(0, data.shape[0]-1))]\n",
    "\n",
    "        to_return[b] = total / data.shape[0]\n",
    "\n",
    "    return to_return"
   ]
  },
  {
   "cell_type": "code",
   "execution_count": 6,
   "metadata": {},
   "outputs": [
    {
     "data": {
      "text/plain": [
       "array([1, 2, 3, 4, 5])"
      ]
     },
     "execution_count": 6,
     "metadata": {},
     "output_type": "execute_result"
    }
   ],
   "source": [
    "sample = np.arange(1, 6)\n",
    "sample"
   ]
  },
  {
   "cell_type": "code",
   "execution_count": 7,
   "metadata": {},
   "outputs": [
    {
     "name": "stdout",
     "output_type": "stream",
     "text": [
      "CPU times: user 7.14 s, sys: 4.51 ms, total: 7.14 s\n",
      "Wall time: 7.14 s\n"
     ]
    }
   ],
   "source": [
    "%%time\n",
    "x = bootstrap(sample, 1000000)"
   ]
  },
  {
   "cell_type": "code",
   "execution_count": 8,
   "metadata": {},
   "outputs": [
    {
     "name": "stdout",
     "output_type": "stream",
     "text": [
      "57.2 ms ± 1.21 ms per loop (mean ± std. dev. of 7 runs, 1 loop each)\n"
     ]
    }
   ],
   "source": [
    "%%timeit\n",
    "x = bootstrap_jit(sample, 1000000)"
   ]
  },
  {
   "cell_type": "code",
   "execution_count": 9,
   "metadata": {},
   "outputs": [
    {
     "name": "stdout",
     "output_type": "stream",
     "text": [
      "24.6 ms ± 793 µs per loop (mean ± std. dev. of 7 runs, 1 loop each)\n"
     ]
    }
   ],
   "source": [
    "%%timeit\n",
    "x = bootstrap_jit_parallel(sample, 1000000)"
   ]
  },
  {
   "cell_type": "markdown",
   "metadata": {},
   "source": [
    "### Notes: Guess is that parallel processing introduces some overhead and benefits lost for small bootstraps"
   ]
  },
  {
   "cell_type": "code",
   "execution_count": 10,
   "metadata": {},
   "outputs": [
    {
     "name": "stdout",
     "output_type": "stream",
     "text": [
      "6.22 µs ± 39.8 ns per loop (mean ± std. dev. of 7 runs, 100000 loops each)\n"
     ]
    }
   ],
   "source": [
    "%%timeit\n",
    "x = bootstrap_jit(sample, 100)"
   ]
  },
  {
   "cell_type": "code",
   "execution_count": 11,
   "metadata": {},
   "outputs": [
    {
     "name": "stdout",
     "output_type": "stream",
     "text": [
      "22.3 µs ± 1.02 µs per loop (mean ± std. dev. of 7 runs, 10000 loops each)\n"
     ]
    }
   ],
   "source": [
    "%%timeit\n",
    "x = bootstrap_jit_parallel(sample, 100)"
   ]
  },
  {
   "cell_type": "markdown",
   "metadata": {},
   "source": [
    "## TO-DO: Parallel Processing with dask"
   ]
  },
  {
   "cell_type": "code",
   "execution_count": null,
   "metadata": {},
   "outputs": [],
   "source": []
  }
 ],
 "metadata": {
  "kernelspec": {
   "display_name": "Python 3",
   "language": "python",
   "name": "python3"
  },
  "language_info": {
   "codemirror_mode": {
    "name": "ipython",
    "version": 3
   },
   "file_extension": ".py",
   "mimetype": "text/x-python",
   "name": "python",
   "nbconvert_exporter": "python",
   "pygments_lexer": "ipython3",
   "version": "3.7.0"
  }
 },
 "nbformat": 4,
 "nbformat_minor": 2
}
