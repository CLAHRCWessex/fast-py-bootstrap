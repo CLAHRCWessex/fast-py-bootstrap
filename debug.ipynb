{
 "cells": [
  {
   "cell_type": "code",
   "execution_count": null,
   "metadata": {},
   "outputs": [],
   "source": [
    "import Bootstrap as bs\n",
    "args = bs.BootstrapArguments()\n",
    "args.nboots = 200000\n",
    "args.scenarios = 10\n",
    "args.point_estimate_func = bs.bootstrap_mean\n",
    "y = bs.resample_all_scenarios(sample, args)"
   ]
  },
  {
   "cell_type": "code",
   "execution_count": null,
   "metadata": {},
   "outputs": [],
   "source": [
    "n = 10\n",
    "k = 1000000\n",
    "s1 = [round(np.random.uniform(0, n-1)) for i in range(k)]"
   ]
  },
  {
   "cell_type": "code",
   "execution_count": null,
   "metadata": {},
   "outputs": [],
   "source": [
    "s2 = [np.random.randint(0, n) for i in range(k)]"
   ]
  },
  {
   "cell_type": "code",
   "execution_count": null,
   "metadata": {},
   "outputs": [],
   "source": [
    "plt.hist(s1, alpha=0.5, label=\"Vanilla Python\", cumulative=False)\n",
    "plt.hist(s2, alpha=0.5, label=\"NumPy/Numba\",cumulative=False)\n",
    "plt.legend(loc='upper left')\n",
    "plt.show()"
   ]
  }
 ],
 "metadata": {
  "kernelspec": {
   "display_name": "Python 3",
   "language": "python",
   "name": "python3"
  },
  "language_info": {
   "codemirror_mode": {
    "name": "ipython",
    "version": 3
   },
   "file_extension": ".py",
   "mimetype": "text/x-python",
   "name": "python",
   "nbconvert_exporter": "python",
   "pygments_lexer": "ipython3",
   "version": "3.7.0"
  }
 },
 "nbformat": 4,
 "nbformat_minor": 2
}
